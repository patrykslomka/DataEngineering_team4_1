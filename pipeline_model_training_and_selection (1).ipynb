{
 "cells": [
  {
   "cell_type": "markdown",
   "id": "e3bf0613-d6ec-4cf4-87e5-062fd3bd3a82",
   "metadata": {},
   "source": [
    "### Installation\n",
    "Install the packages required for executing this notebook."
   ]
  },
  {
   "cell_type": "markdown",
   "id": "611aeefc-f5ce-40e8-acc7-d04ac84da39a",
   "metadata": {},
   "source": [
    "## Some of the source codes are based on\n",
    "https://towardsdatascience.com/how-to-set-up-custom-vertex-ai-pipelines-step-by-step-467487f81cad "
   ]
  },
  {
   "cell_type": "code",
   "execution_count": 1,
   "id": "69f1d825-84cc-43ac-9fe2-f204d77f0962",
   "metadata": {
    "tags": []
   },
   "outputs": [
    {
     "name": "stdout",
     "output_type": "stream",
     "text": [
      "Requirement already satisfied: kfp>2 in c:\\users\\20203820\\appdata\\roaming\\python\\python311\\site-packages (2.7.0)\n",
      "Collecting kfp>2\n",
      "  Downloading kfp-2.9.0.tar.gz (595 kB)\n",
      "     ---------------------------------------- 0.0/595.6 kB ? eta -:--:--\n",
      "     -------------------------------------- 595.6/595.6 kB 7.1 MB/s eta 0:00:00\n",
      "  Preparing metadata (setup.py): started\n",
      "  Preparing metadata (setup.py): finished with status 'done'\n",
      "Requirement already satisfied: google-cloud-pipeline-components>2 in c:\\users\\20203820\\appdata\\roaming\\python\\python311\\site-packages (2.17.0)\n",
      "Requirement already satisfied: google-cloud-aiplatform in c:\\users\\20203820\\appdata\\roaming\\python\\python311\\site-packages (1.70.0)\n",
      "Requirement already satisfied: click<9,>=8.0.0 in c:\\users\\20203820\\appdata\\local\\anaconda3\\lib\\site-packages (from kfp>2) (8.1.7)\n",
      "Requirement already satisfied: docstring-parser<1,>=0.7.3 in c:\\users\\20203820\\appdata\\roaming\\python\\python311\\site-packages (from kfp>2) (0.16)\n",
      "Requirement already satisfied: google-api-core!=2.0.*,!=2.1.*,!=2.2.*,!=2.3.0,<3.0.0dev,>=1.31.5 in c:\\users\\20203820\\appdata\\local\\anaconda3\\lib\\site-packages (from kfp>2) (2.19.0)\n",
      "Requirement already satisfied: google-auth<3,>=1.6.1 in c:\\users\\20203820\\appdata\\local\\anaconda3\\lib\\site-packages (from kfp>2) (2.30.0)\n",
      "Requirement already satisfied: google-cloud-storage<3,>=2.2.1 in c:\\users\\20203820\\appdata\\local\\anaconda3\\lib\\site-packages (from kfp>2) (2.17.0)\n",
      "Collecting kfp-pipeline-spec==0.4.0 (from kfp>2)\n",
      "  Downloading kfp_pipeline_spec-0.4.0-py3-none-any.whl.metadata (301 bytes)\n",
      "Collecting kfp-server-api<2.4.0,>=2.1.0 (from kfp>2)\n",
      "  Downloading kfp_server_api-2.3.0.tar.gz (84 kB)\n",
      "  Preparing metadata (setup.py): started\n",
      "  Preparing metadata (setup.py): finished with status 'done'\n",
      "Requirement already satisfied: kubernetes<31,>=8.0.0 in c:\\users\\20203820\\appdata\\roaming\\python\\python311\\site-packages (from kfp>2) (26.1.0)\n",
      "Requirement already satisfied: protobuf<5,>=4.21.1 in c:\\users\\20203820\\appdata\\local\\anaconda3\\lib\\site-packages (from kfp>2) (4.25.5)\n",
      "Requirement already satisfied: PyYAML<7,>=5.3 in c:\\users\\20203820\\appdata\\local\\anaconda3\\lib\\site-packages (from kfp>2) (6.0.1)\n",
      "Requirement already satisfied: requests-toolbelt<1,>=0.8.0 in c:\\users\\20203820\\appdata\\roaming\\python\\python311\\site-packages (from kfp>2) (0.10.1)\n",
      "Requirement already satisfied: tabulate<1,>=0.8.6 in c:\\users\\20203820\\appdata\\local\\anaconda3\\lib\\site-packages (from kfp>2) (0.9.0)\n",
      "Requirement already satisfied: urllib3<2.0.0 in c:\\users\\20203820\\appdata\\local\\anaconda3\\lib\\site-packages (from kfp>2) (1.26.18)\n",
      "Requirement already satisfied: Jinja2<4,>=3.1.2 in c:\\users\\20203820\\appdata\\local\\anaconda3\\lib\\site-packages (from google-cloud-pipeline-components>2) (3.1.3)\n",
      "Requirement already satisfied: kfp-pipeline-spec==0.3.0 in c:\\users\\20203820\\appdata\\roaming\\python\\python311\\site-packages (from kfp>2) (0.3.0)\n",
      "Requirement already satisfied: kfp-server-api<2.1.0,>=2.0.0 in c:\\users\\20203820\\appdata\\roaming\\python\\python311\\site-packages (from kfp>2) (2.0.5)\n",
      "Requirement already satisfied: proto-plus<2.0.0dev,>=1.22.3 in c:\\users\\20203820\\appdata\\local\\anaconda3\\lib\\site-packages (from google-cloud-aiplatform) (1.23.0)\n",
      "Requirement already satisfied: packaging>=14.3 in c:\\users\\20203820\\appdata\\local\\anaconda3\\lib\\site-packages (from google-cloud-aiplatform) (23.1)\n",
      "Requirement already satisfied: google-cloud-bigquery!=3.20.0,<4.0.0dev,>=1.15.0 in c:\\users\\20203820\\appdata\\roaming\\python\\python311\\site-packages (from google-cloud-aiplatform) (3.26.0)\n",
      "Requirement already satisfied: google-cloud-resource-manager<3.0.0dev,>=1.3.3 in c:\\users\\20203820\\appdata\\roaming\\python\\python311\\site-packages (from google-cloud-aiplatform) (1.12.5)\n",
      "Requirement already satisfied: shapely<3.0.0dev in c:\\users\\20203820\\appdata\\local\\anaconda3\\lib\\site-packages (from google-cloud-aiplatform) (2.0.1)\n",
      "Requirement already satisfied: pydantic<3 in c:\\users\\20203820\\appdata\\local\\anaconda3\\lib\\site-packages (from google-cloud-aiplatform) (2.7.4)\n",
      "Requirement already satisfied: colorama in c:\\users\\20203820\\appdata\\local\\anaconda3\\lib\\site-packages (from click<9,>=8.0.0->kfp>2) (0.4.4)\n",
      "Requirement already satisfied: googleapis-common-protos<2.0.dev0,>=1.56.2 in c:\\users\\20203820\\appdata\\local\\anaconda3\\lib\\site-packages (from google-api-core!=2.0.*,!=2.1.*,!=2.2.*,!=2.3.0,<3.0.0dev,>=1.31.5->kfp>2) (1.63.1)\n",
      "Requirement already satisfied: requests<3.0.0.dev0,>=2.18.0 in c:\\users\\20203820\\appdata\\local\\anaconda3\\lib\\site-packages (from google-api-core!=2.0.*,!=2.1.*,!=2.2.*,!=2.3.0,<3.0.0dev,>=1.31.5->kfp>2) (2.31.0)\n",
      "Requirement already satisfied: grpcio<2.0dev,>=1.33.2 in c:\\users\\20203820\\appdata\\local\\anaconda3\\lib\\site-packages (from google-api-core[grpc]!=2.0.*,!=2.1.*,!=2.2.*,!=2.3.*,!=2.4.*,!=2.5.*,!=2.6.*,!=2.7.*,<3.0.0dev,>=1.34.1->google-cloud-aiplatform) (1.66.2)\n",
      "Requirement already satisfied: grpcio-status<2.0.dev0,>=1.33.2 in c:\\users\\20203820\\appdata\\local\\anaconda3\\lib\\site-packages (from google-api-core[grpc]!=2.0.*,!=2.1.*,!=2.2.*,!=2.3.*,!=2.4.*,!=2.5.*,!=2.6.*,!=2.7.*,<3.0.0dev,>=1.34.1->google-cloud-aiplatform) (1.62.3)\n",
      "Requirement already satisfied: cachetools<6.0,>=2.0.0 in c:\\users\\20203820\\appdata\\local\\anaconda3\\lib\\site-packages (from google-auth<3,>=1.6.1->kfp>2) (4.2.2)\n",
      "Requirement already satisfied: pyasn1-modules>=0.2.1 in c:\\users\\20203820\\appdata\\local\\anaconda3\\lib\\site-packages (from google-auth<3,>=1.6.1->kfp>2) (0.2.8)\n",
      "Requirement already satisfied: rsa<5,>=3.1.4 in c:\\users\\20203820\\appdata\\local\\anaconda3\\lib\\site-packages (from google-auth<3,>=1.6.1->kfp>2) (4.7.2)\n",
      "Requirement already satisfied: google-cloud-core<3.0.0dev,>=2.4.1 in c:\\users\\20203820\\appdata\\local\\anaconda3\\lib\\site-packages (from google-cloud-bigquery!=3.20.0,<4.0.0dev,>=1.15.0->google-cloud-aiplatform) (2.4.1)\n",
      "Requirement already satisfied: google-resumable-media<3.0dev,>=2.0.0 in c:\\users\\20203820\\appdata\\local\\anaconda3\\lib\\site-packages (from google-cloud-bigquery!=3.20.0,<4.0.0dev,>=1.15.0->google-cloud-aiplatform) (2.7.1)\n",
      "Requirement already satisfied: python-dateutil<3.0dev,>=2.7.3 in c:\\users\\20203820\\appdata\\local\\anaconda3\\lib\\site-packages (from google-cloud-bigquery!=3.20.0,<4.0.0dev,>=1.15.0->google-cloud-aiplatform) (2.8.2)\n",
      "Requirement already satisfied: grpc-google-iam-v1<1.0.0dev,>=0.12.4 in c:\\users\\20203820\\appdata\\roaming\\python\\python311\\site-packages (from google-cloud-resource-manager<3.0.0dev,>=1.3.3->google-cloud-aiplatform) (0.13.1)\n",
      "Requirement already satisfied: google-crc32c<2.0dev,>=1.0 in c:\\users\\20203820\\appdata\\local\\anaconda3\\lib\\site-packages (from google-cloud-storage<3,>=2.2.1->kfp>2) (1.5.0)\n",
      "Requirement already satisfied: MarkupSafe>=2.0 in c:\\users\\20203820\\appdata\\local\\anaconda3\\lib\\site-packages (from Jinja2<4,>=3.1.2->google-cloud-pipeline-components>2) (2.1.3)\n",
      "Requirement already satisfied: six>=1.10 in c:\\users\\20203820\\appdata\\local\\anaconda3\\lib\\site-packages (from kfp-server-api<2.1.0,>=2.0.0->kfp>2) (1.16.0)\n",
      "Requirement already satisfied: certifi in c:\\users\\20203820\\appdata\\roaming\\python\\python311\\site-packages (from kfp-server-api<2.1.0,>=2.0.0->kfp>2) (2023.7.22)\n",
      "Requirement already satisfied: setuptools>=21.0.0 in c:\\users\\20203820\\appdata\\local\\anaconda3\\lib\\site-packages (from kubernetes<31,>=8.0.0->kfp>2) (68.2.2)\n",
      "Requirement already satisfied: websocket-client!=0.40.0,!=0.41.*,!=0.42.*,>=0.32.0 in c:\\users\\20203820\\appdata\\local\\anaconda3\\lib\\site-packages (from kubernetes<31,>=8.0.0->kfp>2) (0.58.0)\n",
      "Requirement already satisfied: requests-oauthlib in c:\\users\\20203820\\appdata\\local\\anaconda3\\lib\\site-packages (from kubernetes<31,>=8.0.0->kfp>2) (2.0.0)\n",
      "Requirement already satisfied: annotated-types>=0.4.0 in c:\\users\\20203820\\appdata\\local\\anaconda3\\lib\\site-packages (from pydantic<3->google-cloud-aiplatform) (0.7.0)\n",
      "Requirement already satisfied: pydantic-core==2.18.4 in c:\\users\\20203820\\appdata\\local\\anaconda3\\lib\\site-packages (from pydantic<3->google-cloud-aiplatform) (2.18.4)\n",
      "Requirement already satisfied: typing-extensions>=4.6.1 in c:\\users\\20203820\\appdata\\local\\anaconda3\\lib\\site-packages (from pydantic<3->google-cloud-aiplatform) (4.9.0)\n",
      "Requirement already satisfied: numpy>=1.14 in c:\\users\\20203820\\appdata\\local\\anaconda3\\lib\\site-packages (from shapely<3.0.0dev->google-cloud-aiplatform) (1.26.4)\n",
      "Requirement already satisfied: pyasn1<0.5.0,>=0.4.6 in c:\\users\\20203820\\appdata\\local\\anaconda3\\lib\\site-packages (from pyasn1-modules>=0.2.1->google-auth<3,>=1.6.1->kfp>2) (0.4.8)\n",
      "Requirement already satisfied: charset-normalizer<4,>=2 in c:\\users\\20203820\\appdata\\local\\anaconda3\\lib\\site-packages (from requests<3.0.0.dev0,>=2.18.0->google-api-core!=2.0.*,!=2.1.*,!=2.2.*,!=2.3.0,<3.0.0dev,>=1.31.5->kfp>2) (2.0.4)\n",
      "Requirement already satisfied: idna<4,>=2.5 in c:\\users\\20203820\\appdata\\roaming\\python\\python311\\site-packages (from requests<3.0.0.dev0,>=2.18.0->google-api-core!=2.0.*,!=2.1.*,!=2.2.*,!=2.3.0,<3.0.0dev,>=1.31.5->kfp>2) (2.10)\n",
      "Requirement already satisfied: oauthlib>=3.0.0 in c:\\users\\20203820\\appdata\\local\\anaconda3\\lib\\site-packages (from requests-oauthlib->kubernetes<31,>=8.0.0->kfp>2) (3.2.2)\n"
     ]
    }
   ],
   "source": [
    "# Install the packages\n",
    "! pip3 install --user --no-cache-dir --upgrade \"kfp>2\" \"google-cloud-pipeline-components>2\" \\\n",
    "                                        google-cloud-aiplatform"
   ]
  },
  {
   "cell_type": "markdown",
   "id": "62bc6a21-604f-4a52-b904-e3bb18a61b2f",
   "metadata": {},
   "source": [
    "## Restart the kernel\n",
    "Once you've installed the additional packages, you need to restart the notebook kernel so it can find the packages."
   ]
  },
  {
   "cell_type": "code",
   "execution_count": 3,
   "id": "52dad0c4-c173-46b8-bf99-d6e8efc35316",
   "metadata": {
    "tags": []
   },
   "outputs": [],
   "source": [
    "import os\n",
    "\n",
    "if not os.getenv(\"IS_TESTING\"):\n",
    "    # Automatically restart kernel after installs\n",
    "    import IPython\n",
    "\n",
    "    app = IPython.Application.instance()\n",
    "    app.kernel.do_shutdown(True)"
   ]
  },
  {
   "cell_type": "markdown",
   "id": "f2207b06-771f-4dbb-a713-90c50745c0ea",
   "metadata": {},
   "source": [
    "Check the versions of the packages you installed. The KFP SDK version should be >=1.6."
   ]
  },
  {
   "cell_type": "code",
   "execution_count": 29,
   "id": "b5b60838-e5a2-41cd-ae93-43925343fba5",
   "metadata": {
    "tags": []
   },
   "outputs": [
    {
     "name": "stderr",
     "output_type": "stream",
     "text": [
      "Python was not found; run without arguments to install from the Microsoft Store, or disable this shortcut from Settings > Manage App Execution Aliases.\n",
      "'grep' is not recognized as an internal or external command,\n",
      "operable program or batch file.\n",
      "Python was not found; run without arguments to install from the Microsoft Store, or disable this shortcut from Settings > Manage App Execution Aliases.\n"
     ]
    }
   ],
   "source": [
    "! python3 -c \"import kfp; print('KFP SDK version: {}'.format(kfp.__version__))\"\n",
    "! pip3 freeze | grep aiplatform\n",
    "! python3 -c \"import google_cloud_pipeline_components; print('google_cloud_pipeline_components version: {}'.format(google_cloud_pipeline_components.__version__))\""
   ]
  },
  {
   "cell_type": "code",
   "execution_count": 3,
   "id": "5f0bcff2-3ffb-4e51-b852-511cb10ad0f9",
   "metadata": {
    "tags": []
   },
   "outputs": [],
   "source": [
    "import kfp\n",
    "import typing\n",
    "from typing import Dict\n",
    "from typing import NamedTuple\n",
    "from kfp import dsl\n",
    "from kfp.dsl import (Artifact,\n",
    "                        Dataset,\n",
    "                        Input,\n",
    "                        Model,\n",
    "                        Output,\n",
    "                        Metrics,\n",
    "                        component, \n",
    "                        OutputPath, \n",
    "                        InputPath)\n",
    "import google.cloud.aiplatform as aip\n",
    "from google_cloud_pipeline_components.v1.model import ModelUploadOp\n",
    "from google_cloud_pipeline_components.v1.endpoint import (EndpointCreateOp,ModelDeployOp)\n",
    "from google_cloud_pipeline_components.types import artifact_types"
   ]
  },
  {
   "cell_type": "markdown",
   "id": "01afffb0-449b-4669-807a-793f526277fe",
   "metadata": {},
   "source": [
    "#### Project and Pipeline Configurations"
   ]
  },
  {
   "cell_type": "code",
   "execution_count": 4,
   "id": "abf6aad4-f675-47aa-820b-14daa796d89f",
   "metadata": {
    "tags": []
   },
   "outputs": [],
   "source": [
    "#The Google Cloud project that this pipeline runs in.\n",
    "PROJECT_ID = \"de2024-435209\"\n",
    "# The region that this pipeline runs in\n",
    "REGION = \"us-central1\"\n",
    "# Specify a Cloud Storage URI that your pipelines service account can access. The artifacts of your pipeline runs are stored within the pipeline root.\n",
    "PIPELINE_ROOT = \"gs://temp_assignment1_g4\"   # e.g., gs://temp_de2024"
   ]
  },
  {
   "cell_type": "markdown",
   "id": "05bace39-57ba-49ee-bd74-9eaf4093f471",
   "metadata": {},
   "source": [
    "#### Create Pipeline Components\n",
    "\n",
    "We can create a component from Python functions (inline) and from a container. We will first try inline python functions. \n",
    "Refer to  https://www.kubeflow.org/docs/components/pipelines/v2/components/lightweight-python-components/ for more information."
   ]
  },
  {
   "cell_type": "markdown",
   "id": "2457ef88-cd95-4304-b6e0-143b718c44aa",
   "metadata": {},
   "source": [
    "#### Pipeline Component : Train and Test Split"
   ]
  },
  {
   "cell_type": "code",
   "execution_count": 5,
   "id": "83bc305f-2456-4c07-b89f-427b0f24eaf2",
   "metadata": {
    "tags": []
   },
   "outputs": [],
   "source": [
    "@dsl.component(\n",
    "    packages_to_install=[\"pandas\", \"scikit-learn==1.3.2\"],\n",
    "    base_image=\"python:3.10.7-slim\"\n",
    ")\n",
    "def train_test_split(dataset: Input[Dataset], dataset_train: Output[Dataset], dataset_test: Output[Dataset]):\n",
    "    '''train_test_split'''\n",
    "    import pandas as pd\n",
    "    import logging \n",
    "    import sys\n",
    "    from sklearn.model_selection import train_test_split as tts\n",
    "    \n",
    "    logging.basicConfig(stream=sys.stdout, level=logging.INFO) \n",
    "    \n",
    "    alldata = pd.read_csv(dataset.path, index_col=None)\n",
    "    train, test = tts(alldata, test_size=0.25)\n",
    "    train.to_csv(dataset_train.path + \".csv\" , index=False, encoding='utf-8-sig')\n",
    "    test.to_csv(dataset_test.path + \".csv\" , index=False, encoding='utf-8-sig')"
   ]
  },
  {
   "cell_type": "markdown",
   "id": "f911d312-549c-4be7-bef0-e02c9d8cf80f",
   "metadata": {},
   "source": [
    "#### Pipeline Component : Training XGBoost"
   ]
  },
  {
   "cell_type": "code",
   "execution_count": 7,
   "id": "c8d7d320-de68-4308-adec-6c331b34b20b",
   "metadata": {},
   "outputs": [],
   "source": [
    "@dsl.component(\n",
    "    packages_to_install=[\"pandas\", \"xgboost==1.6.0\", \"scikit-learn==1.3.2\"],  # Install xgboost instead of scikit-learn\n",
    "    base_image=\"python:3.10.7-slim\"\n",
    ")\n",
    "def train_xgboost(features: Input[Dataset], model: Output[Model]):\n",
    "    '''Train an XGBoost Regression model with specific parameters'''\n",
    "    import pandas as pd\n",
    "    from xgboost import XGBRegressor  # Import XGBoost Regressor\n",
    "    import pickle \n",
    "    \n",
    "    # Load the dataset from the CSV file\n",
    "    data = pd.read_csv(features.path + \".csv\")\n",
    "    \n",
    "    # Initialize an XGBoost Regressor model with the specified parameters\n",
    "    model_xgb = XGBRegressor(\n",
    "        alpha=10,            # Regularization term (L1)\n",
    "        reg_lambda=20,       # Regularization term (L2)\n",
    "        learning_rate=0.1,   # Step size shrinkage\n",
    "        n_estimators=500     # Number of boosting rounds (trees)\n",
    "    )\n",
    "    \n",
    "    # Train the model using all columns except 'Median_House_Value' as features\n",
    "    model_xgb.fit(data.drop('Median_House_Value', axis=1), data['Median_House_Value'])\n",
    "    \n",
    "    # Add metadata to indicate the model is an XGBoost Regressor model\n",
    "    model.metadata[\"framework\"] = \"XGBoost\"\n",
    "\n",
    "    # Save the trained model as a pickle file\n",
    "    file_name = model.path + \".pkl\"\n",
    "    with open(file_name, 'wb') as file:  \n",
    "        pickle.dump(model_xgb, file)"
   ]
  },
  {
   "cell_type": "markdown",
   "id": "85befddf-5dd2-4768-b019-3fbafaf18b2f",
   "metadata": {},
   "source": [
    "#### Pipeline Component : Training Random forest"
   ]
  },
  {
   "cell_type": "code",
   "execution_count": 9,
   "id": "0d50ebe2-c177-4f5e-8b17-889b99d11b55",
   "metadata": {
    "tags": []
   },
   "outputs": [],
   "source": [
    "@dsl.component(\n",
    "    packages_to_install=[\"pandas\", \"scikit-learn==1.3.2\"],  # Install scikit-learn for RandomForest\n",
    "    base_image=\"python:3.10.7-slim\"\n",
    ")\n",
    "def train_random_forest(features: Input[Dataset], model: Output[Model]):\n",
    "    '''Train a Random Forest Regressor model with specific parameters'''\n",
    "    import pandas as pd\n",
    "    from sklearn.ensemble import RandomForestRegressor  # Import Random Forest Regressor\n",
    "    import pickle \n",
    "    \n",
    "    # Load the dataset from the CSV file\n",
    "    data = pd.read_csv(features.path + \".csv\")\n",
    "    \n",
    "    # Initialize a Random Forest Regressor model with the specified parameters\n",
    "    model_rf = RandomForestRegressor(\n",
    "        n_estimators=100,   # Number of trees in the forest\n",
    "        max_depth=10        # Maximum depth of each tree\n",
    "    )\n",
    "    \n",
    "    # Train the model using all columns except 'Median_House_Value' as features\n",
    "    model_rf.fit(data.drop('Median_House_Value', axis=1), data['Median_House_Value'])\n",
    "    \n",
    "    # Add metadata to indicate the model is a Random Forest Regressor model\n",
    "    model.metadata[\"framework\"] = \"RandomForest\"\n",
    "\n",
    "    # Save the trained model as a pickle file\n",
    "    file_name = model.path + \".pkl\"\n",
    "    with open(file_name, 'wb') as file:  \n",
    "        pickle.dump(model_rf, file)"
   ]
  },
  {
   "cell_type": "markdown",
   "id": "c1d0f7f9-6e07-40e4-a220-cb2ccfe76337",
   "metadata": {},
   "source": [
    "#### Pipeline Component : Model Evaluation\n",
    "\n",
    "See https://www.kubeflow.org/docs/components/pipelines/v2/data-types/parameters/ for NamedTuple"
   ]
  },
  {
   "cell_type": "code",
   "execution_count": 10,
   "id": "8497660a-2b75-4004-aaae-5d8d7fc6ccfb",
   "metadata": {
    "tags": []
   },
   "outputs": [],
   "source": [
    "@dsl.component(\n",
    "    packages_to_install = [\n",
    "       \"pandas\", \"scikit-learn==1.3.2\", \"numpy\", \"xgboost==1.6.0\"\n",
    "    ], base_image=\"python:3.10.7-slim\"\n",
    ")\n",
    "def lr_model_evaluation(\n",
    "    test_set: Input[Dataset],\n",
    "    model: Input[Model],\n",
    "    thresholds_dict_str: str,\n",
    "    metrics: Output[Metrics],\n",
    "    kpi: Output[Metrics]\n",
    ") -> NamedTuple('outputs', [('approval', bool), ('r2', float)]):\n",
    "    '''Evaluate the model and return approval and R² for comparison'''\n",
    "  \n",
    "    import pandas as pd\n",
    "    import logging     \n",
    "    from sklearn.metrics import mean_squared_error, mean_absolute_error, r2_score\n",
    "    import json\n",
    "    import pickle\n",
    "    import numpy as np\n",
    "    \n",
    "    logging.basicConfig(level=logging.INFO)\n",
    "    \n",
    "    # Load test data\n",
    "    data = pd.read_csv(test_set.path + \".csv\")\n",
    "    \n",
    "    # Load the saved model (XGBoost or RandomForest)\n",
    "    m_filename = model.path + \".pkl\"\n",
    "    model = pickle.load(open(m_filename, 'rb'))\n",
    "    \n",
    "    # Prepare the test features and target variable\n",
    "    X_test = data.drop(columns=[\"Median_House_Value\"])\n",
    "    y_true = data['Median_House_Value']\n",
    "    \n",
    "    # Make predictions\n",
    "    y_pred = model.predict(X_test)\n",
    "    \n",
    "    # Calculate R² score\n",
    "    r2 = r2_score(y_true, y_pred)\n",
    "\n",
    "    logging.info(f\"R²: {r2}\")\n",
    "    \n",
    "    # Log metrics for future analysis\n",
    "    metrics.log_metric(\"R2\", r2)\n",
    "    kpi.log_metric(\"R2\", r2)\n",
    "    \n",
    "    # Parse the threshold dictionary for R² threshold\n",
    "    thresholds_dict = json.loads(thresholds_dict_str)\n",
    "    r2_threshold = thresholds_dict.get('r2', 0.7)  # Default R² threshold is 0.7 if not specified\n",
    "    \n",
    "    # Check if R² meets the threshold for approval\n",
    "    approval_value = bool(r2 >= r2_threshold)\n",
    "    logging.info(f\"Approval based on R²: {approval_value} (R²: {r2}, Threshold: {r2_threshold})\")\n",
    "    \n",
    "    # Return both approval status and R² for further use in the pipeline\n",
    "    return approval_value, r2\n"
   ]
  },
  {
   "cell_type": "markdown",
   "id": "bedd8767-8d74-43e2-b810-76846e07c325",
   "metadata": {},
   "source": [
    "#### Pipeline Component : Compare models"
   ]
  },
  {
   "cell_type": "code",
   "execution_count": 11,
   "id": "f567723f-77a0-45b4-88a5-ca71a57dcc6a",
   "metadata": {
    "tags": []
   },
   "outputs": [],
   "source": [
    "@dsl.component(\n",
    "    base_image=\"python:3.10.7-slim\"\n",
    ")\n",
    "def compare_model(xgb_r2: float, rf_r2: float) -> str:\n",
    "    import logging\n",
    "    import sys\n",
    "    logging.basicConfig(stream=sys.stdout, level=logging.INFO)\n",
    "    \n",
    "    logging.info(f\"XGBoost R²: {xgb_r2}\")\n",
    "    logging.info(f\"Random Forest R²: {rf_r2}\")\n",
    "    \n",
    "    # Compare based on R²\n",
    "    if xgb_r2 > rf_r2:\n",
    "        return \"XGB\"\n",
    "    else:\n",
    "        return \"RF\""
   ]
  },
  {
   "cell_type": "markdown",
   "id": "9aa41f3c-110d-4bde-bd99-22fcec229930",
   "metadata": {},
   "source": [
    "### Upload Model and Metrics to Google Bucket "
   ]
  },
  {
   "cell_type": "code",
   "execution_count": 15,
   "id": "c84923d8-2952-4ea0-8118-dc0ce7822f34",
   "metadata": {
    "tags": []
   },
   "outputs": [],
   "source": [
    "@dsl.component(\n",
    "    packages_to_install=[\"google-cloud-storage\"],\n",
    "    base_image=\"python:3.10.7-slim\"\n",
    ")\n",
    "def upload_model_to_gcs(project_id: str, model_repo: str, model: Input[Model]):\n",
    "    '''upload model to gsc'''\n",
    "    from google.cloud import storage   \n",
    "    import logging \n",
    "    import sys\n",
    "    \n",
    "    logging.basicConfig(stream=sys.stdout, level=logging.INFO)    \n",
    "  \n",
    "    # upload the model to GCS\n",
    "    client = storage.Client(project=project_id)\n",
    "    bucket = client.bucket(model_repo)\n",
    "    blob = bucket.blob('lr_model.pkl')\n",
    "    source_file_name= model.path + '.pkl'\n",
    "   \n",
    "    blob.upload_from_filename(source_file_name)    \n",
    "    \n",
    "    print(f\"File {source_file_name} uploaded to {model_repo}.\")"
   ]
  },
  {
   "cell_type": "markdown",
   "id": "0f4ac521-b3c7-46f2-b1cf-613d7b638a40",
   "metadata": {},
   "source": [
    "### Trigger Another CI_CD Pipeline"
   ]
  },
  {
   "cell_type": "code",
   "execution_count": null,
   "id": "791dc27b-9d2f-4d80-8e56-d4e944feb093",
   "metadata": {
    "tags": []
   },
   "outputs": [],
   "source": [
    "# @dsl.component(\n",
    "#     packages_to_install=[\"google-cloud-build\"],\n",
    "#     base_image=\"python:3.10.7-slim\"\n",
    "# )\n",
    "# def run_build_trigger(project_id:str, trigger_id:str):\n",
    "#     import sys\n",
    "#     from google.cloud.devtools import cloudbuild_v1    \n",
    "#     import logging \n",
    "#     logging.basicConfig(stream=sys.stdout, level=logging.INFO) \n",
    "    \n",
    "#     # Create a client\n",
    "#     client = cloudbuild_v1.CloudBuildClient()\n",
    "#     name = f\"projects/{project_id}/locations/us-central1/triggers/{trigger_id}\"\n",
    "#     # Initialize request argument(s)\n",
    "#     request = cloudbuild_v1.RunBuildTriggerRequest(        \n",
    "#         project_id=project_id,\n",
    "#         trigger_id=trigger_id,\n",
    "#         name=name\n",
    "#     )\n",
    "\n",
    "#     # Make the request\n",
    "#     operation = client.run_build_trigger(request=request)\n",
    "    \n",
    "#     logging.info(\"Trigger the CI-CD Pipeline: \" + trigger_id)"
   ]
  },
  {
   "cell_type": "markdown",
   "id": "166590b3-f788-4e4c-8e31-fb981da56966",
   "metadata": {},
   "source": [
    "\n",
    "#### Define the Pipeline"
   ]
  },
  {
   "cell_type": "markdown",
   "id": "a5f96fb9-3ec8-48fc-ae16-482ab4fc8b88",
   "metadata": {},
   "source": [
    "_Watch out, use the documented definition statement when you want to automatically deploy the CICD pipeline_"
   ]
  },
  {
   "cell_type": "code",
   "execution_count": 23,
   "id": "ef733b17-c2d0-4e8f-a227-58971385b2cc",
   "metadata": {
    "tags": []
   },
   "outputs": [],
   "source": [
    "# Define the workflow of the pipeline.\n",
    "\n",
    "@kfp.dsl.pipeline(\n",
    "    name=\"median_house_price_predictor_pipeline\")\n",
    "def pipeline(project_id: str, data_bucket: str, dataset_uri: str, model_repo: str, thresholds_dict_str:str):    \n",
    "# def pipeline(project_id: str, data_bucket: str, dataset_uri: str, model_repo: str, thresholds_dict_str:str, trigger_id:str):     <-- Use this definition if the CICD pipeline is connected\n",
    "    \n",
    "    dataset_op = kfp.dsl.importer(\n",
    "        artifact_uri=dataset_uri,\n",
    "        artifact_class=Dataset,\n",
    "        reimport=False,\n",
    "    )\n",
    "     \n",
    "    train_test_split_op = train_test_split(dataset=dataset_op.output)\n",
    "        \n",
    "    training_xg_job_run_op = train_xgboost(features=train_test_split_op.outputs[\"dataset_train\"])\n",
    "    training_rf_job_run_op = train_random_forest(features=train_test_split_op.outputs[\"dataset_train\"])\n",
    "    \n",
    "    \n",
    "    model_evaluation_op_xg = lr_model_evaluation(\n",
    "        test_set=train_test_split_op.outputs[\"dataset_test\"],\n",
    "        model=training_xg_job_run_op.outputs[\"model\"],\n",
    "        thresholds_dict_str=thresholds_dict_str, # I deploy the model anly if the model performance is above the threshold\n",
    "    )\n",
    "    \n",
    "    model_evaluation_op_rf = lr_model_evaluation(\n",
    "        test_set=train_test_split_op.outputs[\"dataset_test\"],\n",
    "        model=training_rf_job_run_op.outputs[\"model\"],\n",
    "        thresholds_dict_str=thresholds_dict_str, # I deploy the model anly if the model performance is above the threshold\n",
    "    )\n",
    "    \n",
    "    # Compare models based on R²\n",
    "    comp_model_op = compare_model(\n",
    "        xgb_r2=model_evaluation_op_xg.outputs['r2'],\n",
    "        rf_r2=model_evaluation_op_rf.outputs['r2']\n",
    "    ).after(model_evaluation_op_xg, model_evaluation_op_rf)\n",
    "    \n",
    "    \n",
    "    # Identify and approve the best model, then upload it to the GCS bucket if approved\n",
    "    with dsl.If(comp_model_op.output == \"XGB\"):\n",
    "        # XGBoost is better\n",
    "        with dsl.If(model_evaluation_op_xg.outputs[\"approval\"] == True):\n",
    "            # Upload XGBoost model if it meets approval criteria\n",
    "            upload_model_to_gc_op = upload_model_to_gcs(\n",
    "                project_id=project_id,\n",
    "                model_repo=model_repo,\n",
    "                model=training_xg_job_run_op.outputs['model']\n",
    "            )\n",
    "    \n",
    "    with dsl.If(comp_model_op.output == \"RF\"):\n",
    "        # Random Forest is better\n",
    "        with dsl.If(model_evaluation_op_rf.outputs[\"approval\"] == True):\n",
    "            # Upload Random Forest model if it meets approval criteria\n",
    "            upload_model_to_gc_op = upload_model_to_gcs(\n",
    "                project_id=project_id,\n",
    "                model_repo=model_repo,\n",
    "                model=training_rf_job_run_op.outputs['model']\n",
    "            )  \n",
    "        \n",
    "#         trigger_model_deployment_cicd = run_build_trigger(\n",
    "#             project_id=project_id,\n",
    "#             trigger_id=trigger_id\n",
    "#         ).after(upload_model_to_gc_op)  \n",
    "      "
   ]
  },
  {
   "cell_type": "markdown",
   "id": "ac278200-c580-4f40-bc8b-1817d3b13c13",
   "metadata": {},
   "source": [
    "#### Compile the pipeline into a JSON file"
   ]
  },
  {
   "cell_type": "code",
   "execution_count": 25,
   "id": "ef1c4c8e-d54e-4272-a1cf-9fd3f7b4cd56",
   "metadata": {
    "tags": []
   },
   "outputs": [],
   "source": [
    "from kfp import compiler\n",
    "compiler.Compiler().compile(pipeline_func=pipeline,\n",
    "        package_path='median_house_price_predictor_pipeline.yaml')"
   ]
  },
  {
   "cell_type": "markdown",
   "id": "7f87025e-08d7-4608-b37d-c929b6eb5a3c",
   "metadata": {},
   "source": [
    "#### Submit the pipeline run"
   ]
  },
  {
   "cell_type": "code",
   "execution_count": 27,
   "id": "f52c7648-eeb6-431e-ba7f-66c6620832b9",
   "metadata": {
    "tags": []
   },
   "outputs": [
    {
     "ename": "DefaultCredentialsError",
     "evalue": "Your default credentials were not found. To set up Application Default Credentials, see https://cloud.google.com/docs/authentication/external/set-up-adc for more information.",
     "output_type": "error",
     "traceback": [
      "\u001b[1;31m---------------------------------------------------------------------------\u001b[0m",
      "\u001b[1;31mDefaultCredentialsError\u001b[0m                   Traceback (most recent call last)",
      "Cell \u001b[1;32mIn[27], line 11\u001b[0m\n\u001b[0;32m      5\u001b[0m aip\u001b[38;5;241m.\u001b[39minit(\n\u001b[0;32m      6\u001b[0m     project\u001b[38;5;241m=\u001b[39mPROJECT_ID,\n\u001b[0;32m      7\u001b[0m     location\u001b[38;5;241m=\u001b[39mREGION,\n\u001b[0;32m      8\u001b[0m )\n\u001b[0;32m     10\u001b[0m \u001b[38;5;66;03m# Prepare the pipeline job\u001b[39;00m\n\u001b[1;32m---> 11\u001b[0m job \u001b[38;5;241m=\u001b[39m aip\u001b[38;5;241m.\u001b[39mPipelineJob(\n\u001b[0;32m     12\u001b[0m     display_name\u001b[38;5;241m=\u001b[39m\u001b[38;5;124m\"\u001b[39m\u001b[38;5;124mmedian_house_price_predictor_xgboost\u001b[39m\u001b[38;5;124m\"\u001b[39m,\n\u001b[0;32m     13\u001b[0m     enable_caching\u001b[38;5;241m=\u001b[39m\u001b[38;5;28;01mFalse\u001b[39;00m, \u001b[38;5;66;03m# Make this False and True as necessary \u001b[39;00m\n\u001b[0;32m     14\u001b[0m     template_path\u001b[38;5;241m=\u001b[39m\u001b[38;5;124m\"\u001b[39m\u001b[38;5;124mmedian_house_price_predictor_pipeline.yaml\u001b[39m\u001b[38;5;124m\"\u001b[39m,\n\u001b[0;32m     15\u001b[0m     pipeline_root\u001b[38;5;241m=\u001b[39mPIPELINE_ROOT,\n\u001b[0;32m     16\u001b[0m     location\u001b[38;5;241m=\u001b[39mREGION,\n\u001b[0;32m     17\u001b[0m     parameter_values\u001b[38;5;241m=\u001b[39m{\n\u001b[0;32m     18\u001b[0m         \u001b[38;5;124m'\u001b[39m\u001b[38;5;124mproject_id\u001b[39m\u001b[38;5;124m'\u001b[39m: PROJECT_ID, \u001b[38;5;66;03m# makesure to use your project id \u001b[39;00m\n\u001b[0;32m     19\u001b[0m         \u001b[38;5;124m'\u001b[39m\u001b[38;5;124mdata_bucket\u001b[39m\u001b[38;5;124m'\u001b[39m: \u001b[38;5;124m'\u001b[39m\u001b[38;5;124mmodels_assignment1_de\u001b[39m\u001b[38;5;124m'\u001b[39m,  \u001b[38;5;66;03m# makesure to use your data bucket name \u001b[39;00m\n\u001b[0;32m     20\u001b[0m         \u001b[38;5;124m'\u001b[39m\u001b[38;5;124mdataset_uri\u001b[39m\u001b[38;5;124m'\u001b[39m:\u001b[38;5;124m'\u001b[39m\u001b[38;5;124mgs://data_de2024_assignment1_g4/California_Houses.csv\u001b[39m\u001b[38;5;124m'\u001b[39m,\n\u001b[0;32m     21\u001b[0m         \u001b[38;5;124m'\u001b[39m\u001b[38;5;124mmodel_repo\u001b[39m\u001b[38;5;124m'\u001b[39m:\u001b[38;5;124m'\u001b[39m\u001b[38;5;124mmodels_assignment1_g4\u001b[39m\u001b[38;5;124m'\u001b[39m, \u001b[38;5;66;03m# makesure to use your model bucket name \u001b[39;00m\n\u001b[0;32m     22\u001b[0m         \u001b[38;5;124m'\u001b[39m\u001b[38;5;124mthresholds_dict_str\u001b[39m\u001b[38;5;124m'\u001b[39m:\u001b[38;5;124m'\u001b[39m\u001b[38;5;124m{\u001b[39m\u001b[38;5;124m\"\u001b[39m\u001b[38;5;124mr2\u001b[39m\u001b[38;5;124m\"\u001b[39m\u001b[38;5;124m:0.8}\u001b[39m\u001b[38;5;124m'\u001b[39m,\n\u001b[0;32m     23\u001b[0m         \u001b[38;5;66;03m# 'trigger_id':'your trigger id' # makesure to use the id of the cloud build tigger deploying the model. For example, \"id\" field returned from runing gcloud builds triggers describe [your trigger name] --region=us-central1\u001b[39;00m\n\u001b[0;32m     24\u001b[0m     }\n\u001b[0;32m     25\u001b[0m )\n\u001b[0;32m     27\u001b[0m job\u001b[38;5;241m.\u001b[39mrun()\n",
      "File \u001b[1;32m~\\AppData\\Roaming\\Python\\Python311\\site-packages\\google\\cloud\\aiplatform\\pipeline_jobs.py:219\u001b[0m, in \u001b[0;36mPipelineJob.__init__\u001b[1;34m(self, display_name, template_path, job_id, pipeline_root, parameter_values, input_artifacts, enable_caching, encryption_spec_key_name, labels, credentials, project, location, failure_policy)\u001b[0m\n\u001b[0;32m    216\u001b[0m \u001b[38;5;28;01mif\u001b[39;00m labels:\n\u001b[0;32m    217\u001b[0m     utils\u001b[38;5;241m.\u001b[39mvalidate_labels(labels)\n\u001b[1;32m--> 219\u001b[0m \u001b[38;5;28msuper\u001b[39m()\u001b[38;5;241m.\u001b[39m\u001b[38;5;21m__init__\u001b[39m(project\u001b[38;5;241m=\u001b[39mproject, location\u001b[38;5;241m=\u001b[39mlocation, credentials\u001b[38;5;241m=\u001b[39mcredentials)\n\u001b[0;32m    221\u001b[0m \u001b[38;5;28mself\u001b[39m\u001b[38;5;241m.\u001b[39m_parent \u001b[38;5;241m=\u001b[39m initializer\u001b[38;5;241m.\u001b[39mglobal_config\u001b[38;5;241m.\u001b[39mcommon_location_path(\n\u001b[0;32m    222\u001b[0m     project\u001b[38;5;241m=\u001b[39mproject, location\u001b[38;5;241m=\u001b[39mlocation\n\u001b[0;32m    223\u001b[0m )\n\u001b[0;32m    225\u001b[0m \u001b[38;5;66;03m# this loads both .yaml and .json files because YAML is a superset of JSON\u001b[39;00m\n",
      "File \u001b[1;32m~\\AppData\\Roaming\\Python\\Python311\\site-packages\\google\\cloud\\aiplatform\\base.py:1234\u001b[0m, in \u001b[0;36mVertexAiResourceNounWithFutureManager.__init__\u001b[1;34m(self, project, location, credentials, resource_name)\u001b[0m\n\u001b[0;32m   1217\u001b[0m \u001b[38;5;28;01mdef\u001b[39;00m \u001b[38;5;21m__init__\u001b[39m(\n\u001b[0;32m   1218\u001b[0m     \u001b[38;5;28mself\u001b[39m,\n\u001b[0;32m   1219\u001b[0m     project: Optional[\u001b[38;5;28mstr\u001b[39m] \u001b[38;5;241m=\u001b[39m \u001b[38;5;28;01mNone\u001b[39;00m,\n\u001b[1;32m   (...)\u001b[0m\n\u001b[0;32m   1222\u001b[0m     resource_name: Optional[\u001b[38;5;28mstr\u001b[39m] \u001b[38;5;241m=\u001b[39m \u001b[38;5;28;01mNone\u001b[39;00m,\n\u001b[0;32m   1223\u001b[0m ):\n\u001b[0;32m   1224\u001b[0m \u001b[38;5;250m    \u001b[39m\u001b[38;5;124;03m\"\"\"Initializes class with project, location, and api_client.\u001b[39;00m\n\u001b[0;32m   1225\u001b[0m \n\u001b[0;32m   1226\u001b[0m \u001b[38;5;124;03m    Args:\u001b[39;00m\n\u001b[1;32m   (...)\u001b[0m\n\u001b[0;32m   1232\u001b[0m \u001b[38;5;124;03m        resource_name(str): A fully-qualified resource name or ID.\u001b[39;00m\n\u001b[0;32m   1233\u001b[0m \u001b[38;5;124;03m    \"\"\"\u001b[39;00m\n\u001b[1;32m-> 1234\u001b[0m     _VertexAiResourceNounPlus\u001b[38;5;241m.\u001b[39m\u001b[38;5;21m__init__\u001b[39m(\n\u001b[0;32m   1235\u001b[0m         \u001b[38;5;28mself\u001b[39m,\n\u001b[0;32m   1236\u001b[0m         project\u001b[38;5;241m=\u001b[39mproject,\n\u001b[0;32m   1237\u001b[0m         location\u001b[38;5;241m=\u001b[39mlocation,\n\u001b[0;32m   1238\u001b[0m         credentials\u001b[38;5;241m=\u001b[39mcredentials,\n\u001b[0;32m   1239\u001b[0m         resource_name\u001b[38;5;241m=\u001b[39mresource_name,\n\u001b[0;32m   1240\u001b[0m     )\n\u001b[0;32m   1241\u001b[0m     FutureManager\u001b[38;5;241m.\u001b[39m\u001b[38;5;21m__init__\u001b[39m(\u001b[38;5;28mself\u001b[39m)\n",
      "File \u001b[1;32m~\\AppData\\Roaming\\Python\\Python311\\site-packages\\google\\cloud\\aiplatform\\base.py:558\u001b[0m, in \u001b[0;36mVertexAiResourceNoun.__init__\u001b[1;34m(self, project, location, credentials, resource_name)\u001b[0m\n\u001b[0;32m    556\u001b[0m \u001b[38;5;28mself\u001b[39m\u001b[38;5;241m.\u001b[39mproject \u001b[38;5;241m=\u001b[39m project \u001b[38;5;129;01mor\u001b[39;00m initializer\u001b[38;5;241m.\u001b[39mglobal_config\u001b[38;5;241m.\u001b[39mproject\n\u001b[0;32m    557\u001b[0m \u001b[38;5;28mself\u001b[39m\u001b[38;5;241m.\u001b[39mlocation \u001b[38;5;241m=\u001b[39m location \u001b[38;5;129;01mor\u001b[39;00m initializer\u001b[38;5;241m.\u001b[39mglobal_config\u001b[38;5;241m.\u001b[39mlocation\n\u001b[1;32m--> 558\u001b[0m \u001b[38;5;28mself\u001b[39m\u001b[38;5;241m.\u001b[39mcredentials \u001b[38;5;241m=\u001b[39m credentials \u001b[38;5;129;01mor\u001b[39;00m initializer\u001b[38;5;241m.\u001b[39mglobal_config\u001b[38;5;241m.\u001b[39mcredentials\n\u001b[0;32m    560\u001b[0m appended_user_agent \u001b[38;5;241m=\u001b[39m \u001b[38;5;28;01mNone\u001b[39;00m\n\u001b[0;32m    561\u001b[0m \u001b[38;5;28;01mif\u001b[39;00m base_constants\u001b[38;5;241m.\u001b[39mUSER_AGENT_SDK_COMMAND:\n",
      "File \u001b[1;32m~\\AppData\\Roaming\\Python\\Python311\\site-packages\\google\\cloud\\aiplatform\\initializer.py:371\u001b[0m, in \u001b[0;36m_Config.credentials\u001b[1;34m(self)\u001b[0m\n\u001b[0;32m    369\u001b[0m logging_warning_filter \u001b[38;5;241m=\u001b[39m utils\u001b[38;5;241m.\u001b[39mLoggingFilter(logging\u001b[38;5;241m.\u001b[39mWARNING)\n\u001b[0;32m    370\u001b[0m logger\u001b[38;5;241m.\u001b[39maddFilter(logging_warning_filter)\n\u001b[1;32m--> 371\u001b[0m \u001b[38;5;28mself\u001b[39m\u001b[38;5;241m.\u001b[39m_set_project_as_env_var_or_google_auth_default()\n\u001b[0;32m    372\u001b[0m credentials \u001b[38;5;241m=\u001b[39m \u001b[38;5;28mself\u001b[39m\u001b[38;5;241m.\u001b[39m_credentials\n\u001b[0;32m    373\u001b[0m logger\u001b[38;5;241m.\u001b[39mremoveFilter(logging_warning_filter)\n",
      "File \u001b[1;32m~\\AppData\\Roaming\\Python\\Python311\\site-packages\\google\\cloud\\aiplatform\\initializer.py:108\u001b[0m, in \u001b[0;36m_Config._set_project_as_env_var_or_google_auth_default\u001b[1;34m(self)\u001b[0m\n\u001b[0;32m    105\u001b[0m         \u001b[38;5;28mself\u001b[39m\u001b[38;5;241m.\u001b[39m_project \u001b[38;5;241m=\u001b[39m project\n\u001b[0;32m    107\u001b[0m \u001b[38;5;28;01mif\u001b[39;00m \u001b[38;5;129;01mnot\u001b[39;00m \u001b[38;5;28mself\u001b[39m\u001b[38;5;241m.\u001b[39m_credentials \u001b[38;5;129;01mand\u001b[39;00m \u001b[38;5;129;01mnot\u001b[39;00m \u001b[38;5;28mself\u001b[39m\u001b[38;5;241m.\u001b[39m_api_key:\n\u001b[1;32m--> 108\u001b[0m     credentials, _ \u001b[38;5;241m=\u001b[39m google\u001b[38;5;241m.\u001b[39mauth\u001b[38;5;241m.\u001b[39mdefault()\n\u001b[0;32m    109\u001b[0m     \u001b[38;5;28mself\u001b[39m\u001b[38;5;241m.\u001b[39m_credentials \u001b[38;5;241m=\u001b[39m credentials\n",
      "File \u001b[1;32m~\\AppData\\Local\\anaconda3\\Lib\\site-packages\\google\\auth\\_default.py:691\u001b[0m, in \u001b[0;36mdefault\u001b[1;34m(scopes, request, quota_project_id, default_scopes)\u001b[0m\n\u001b[0;32m    683\u001b[0m             _LOGGER\u001b[38;5;241m.\u001b[39mwarning(\n\u001b[0;32m    684\u001b[0m                 \u001b[38;5;124m\"\u001b[39m\u001b[38;5;124mNo project ID could be determined. Consider running \u001b[39m\u001b[38;5;124m\"\u001b[39m\n\u001b[0;32m    685\u001b[0m                 \u001b[38;5;124m\"\u001b[39m\u001b[38;5;124m`gcloud config set project` or setting the \u001b[39m\u001b[38;5;132;01m%s\u001b[39;00m\u001b[38;5;124m \u001b[39m\u001b[38;5;124m\"\u001b[39m\n\u001b[0;32m    686\u001b[0m                 \u001b[38;5;124m\"\u001b[39m\u001b[38;5;124menvironment variable\u001b[39m\u001b[38;5;124m\"\u001b[39m,\n\u001b[0;32m    687\u001b[0m                 environment_vars\u001b[38;5;241m.\u001b[39mPROJECT,\n\u001b[0;32m    688\u001b[0m             )\n\u001b[0;32m    689\u001b[0m         \u001b[38;5;28;01mreturn\u001b[39;00m credentials, effective_project_id\n\u001b[1;32m--> 691\u001b[0m \u001b[38;5;28;01mraise\u001b[39;00m exceptions\u001b[38;5;241m.\u001b[39mDefaultCredentialsError(_CLOUD_SDK_MISSING_CREDENTIALS)\n",
      "\u001b[1;31mDefaultCredentialsError\u001b[0m: Your default credentials were not found. To set up Application Default Credentials, see https://cloud.google.com/docs/authentication/external/set-up-adc for more information."
     ]
    }
   ],
   "source": [
    "import google.cloud.aiplatform as aip\n",
    "\n",
    "# Before initializing, make sure to set the GOOGLE_APPLICATION_CREDENTIALS\n",
    "# environment variable to the path of your service account.\n",
    "aip.init(\n",
    "    project=PROJECT_ID,\n",
    "    location=REGION,\n",
    ")\n",
    "\n",
    "# Prepare the pipeline job\n",
    "job = aip.PipelineJob(\n",
    "    display_name=\"median_house_price_predictor_xgboost\",\n",
    "    enable_caching=False, # Make this False and True as necessary \n",
    "    template_path=\"median_house_price_predictor_pipeline.yaml\",\n",
    "    pipeline_root=PIPELINE_ROOT,\n",
    "    location=REGION,\n",
    "    parameter_values={\n",
    "        'project_id': PROJECT_ID, # makesure to use your project id \n",
    "        'data_bucket': 'models_assignment1_de',  # makesure to use your data bucket name \n",
    "        'dataset_uri':'gs://data_de2024_assignment1_g4/California_Houses.csv',\n",
    "        'model_repo':'models_assignment1_g4', # makesure to use your model bucket name \n",
    "        'thresholds_dict_str':'{\"r2\":0.8}',\n",
    "        # 'trigger_id':'your trigger id' # makesure to use the id of the cloud build tigger deploying the model. For example, \"id\" field returned from runing gcloud builds triggers describe [your trigger name] --region=us-central1\n",
    "    }\n",
    ")\n",
    "\n",
    "job.run()"
   ]
  }
 ],
 "metadata": {
  "environment": {
   "kernel": "conda-base-py",
   "name": "workbench-notebooks.m125",
   "type": "gcloud",
   "uri": "us-docker.pkg.dev/deeplearning-platform-release/gcr.io/workbench-notebooks:m125"
  },
  "kernelspec": {
   "display_name": "Python 3 (ipykernel)",
   "language": "python",
   "name": "python3"
  },
  "language_info": {
   "codemirror_mode": {
    "name": "ipython",
    "version": 3
   },
   "file_extension": ".py",
   "mimetype": "text/x-python",
   "name": "python",
   "nbconvert_exporter": "python",
   "pygments_lexer": "ipython3",
   "version": "3.11.7"
  }
 },
 "nbformat": 4,
 "nbformat_minor": 5
}
